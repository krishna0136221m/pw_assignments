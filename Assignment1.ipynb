{
 "cells": [
  {
   "cell_type": "code",
   "execution_count": 1,
   "id": "d500bff6-af86-47b0-b464-995d93029d71",
   "metadata": {},
   "outputs": [
    {
     "name": "stdout",
     "output_type": "stream",
     "text": [
      "krishna <class 'str'>\n",
      "[0, 1, 2, 3, 4, 5, 6, 7, 8, 9] <class 'list'>\n",
      "10.4 <class 'float'>\n",
      "('abc', 'xyz', 2) <class 'tuple'>\n"
     ]
    }
   ],
   "source": [
    "# solution of question-1\n",
    "name = \"krishna\"\n",
    "lst = list(range(10))\n",
    "floating_point = 10.4\n",
    "tpl = (\"abc\" , \"xyz\" , 2)\n",
    "print(name, type(name))\n",
    "print(lst , type(lst))\n",
    "print(floating_point , type(floating_point))\n",
    "print(tpl , type(tpl))"
   ]
  },
  {
   "cell_type": "code",
   "execution_count": 2,
   "id": "4a74c170-12c7-4eae-b417-e8f161ee0787",
   "metadata": {},
   "outputs": [],
   "source": [
    "# solution of question-2\n",
    "\n",
    "# 1) string\n",
    "# 2) string\n",
    "# 3) list\n",
    "# 4) int"
   ]
  },
  {
   "cell_type": "code",
   "execution_count": 3,
   "id": "53d389e5-cf07-4372-8c16-379bed978ad1",
   "metadata": {},
   "outputs": [
    {
     "name": "stdout",
     "output_type": "stream",
     "text": [
      "5.0\n",
      "0\n",
      "5\n",
      "100\n"
     ]
    }
   ],
   "source": [
    "# solution of question-3\n",
    "\n",
    "# 1) / It is division arthmetic operator which is used to divides first operand by second operand (x/y)\n",
    "\n",
    "a=10\n",
    "b=2\n",
    "print(a/b)\n",
    "\n",
    "# 2) % It is modulus arithmetic returns the remainder when the first operand is divided by the second (x/y)\n",
    "\n",
    "print(a%b)    \n",
    "\n",
    "# 3) // It is  division (floor) arithmetic operator divides the first operand by the second (x//y)\n",
    "\n",
    "print(a//b)\n",
    "\n",
    "# 4) ** It is type of arthematic operator to get exponential left operand raised to the power of right operand (x**y)\n",
    "print(a**b)"
   ]
  },
  {
   "cell_type": "code",
   "execution_count": 4,
   "id": "a780adfe-2f64-44aa-8e32-478f404b3bbc",
   "metadata": {},
   "outputs": [
    {
     "name": "stdout",
     "output_type": "stream",
     "text": [
      "items are 1 and datatype is <class 'int'> \n",
      "\n",
      "items are 2.4 and datatype is <class 'float'> \n",
      "\n",
      "items are abc and datatype is <class 'str'> \n",
      "\n",
      "items are True and datatype is <class 'bool'> \n",
      "\n",
      "items are (2+3j) and datatype is <class 'complex'> \n",
      "\n"
     ]
    }
   ],
   "source": [
    "# solution of question-4\n",
    "\n",
    "lst2=[1 , 2.4 , \"abc\" , True , 2+3j]\n",
    "for i in lst2:\n",
    "    print(\"items are\", i , \"and datatype is\" , type(i),\"\\n\")"
   ]
  },
  {
   "cell_type": "code",
   "execution_count": 1,
   "id": "eb2e4bd7-f783-4dca-9d7a-20361f4667ee",
   "metadata": {},
   "outputs": [
    {
     "name": "stdin",
     "output_type": "stream",
     "text": [
      "enter a operand A ->  8\n",
      "enter a operand B -> 2\n"
     ]
    },
    {
     "name": "stdout",
     "output_type": "stream",
     "text": [
      "3 time purely divisible\n"
     ]
    }
   ],
   "source": [
    "# solution of question-5\n",
    "\n",
    "A=int(input(\"enter a operand A -> \"))\n",
    "B=int(input(\"enter a operand B ->\"))\n",
    "count=0\n",
    "while True:\n",
    "    if(A%B==0):\n",
    "        A=A/B\n",
    "        count=count+1\n",
    "    else:\n",
    "        print(count , \"time purely divisible\")\n",
    "        break        "
   ]
  },
  {
   "cell_type": "code",
   "execution_count": 14,
   "id": "c58368c9-392b-4093-b657-22af7a6aee04",
   "metadata": {},
   "outputs": [
    {
     "name": "stdout",
     "output_type": "stream",
     "text": [
      "[0, 1, 2, 3, 4, 5, 6, 7, 8, 9, 10, 11, 12, 13, 14, 15, 16, 17, 18, 19, 20, 21, 22, 23, 24]\n",
      "0 is divisible be 3\n",
      "1 is not divisible by 3\n",
      "2 is not divisible by 3\n",
      "3 is divisible be 3\n",
      "4 is not divisible by 3\n",
      "5 is not divisible by 3\n",
      "6 is divisible be 3\n",
      "7 is not divisible by 3\n",
      "8 is not divisible by 3\n",
      "9 is divisible be 3\n",
      "10 is not divisible by 3\n",
      "11 is not divisible by 3\n",
      "12 is divisible be 3\n",
      "13 is not divisible by 3\n",
      "14 is not divisible by 3\n",
      "15 is divisible be 3\n",
      "16 is not divisible by 3\n",
      "17 is not divisible by 3\n",
      "18 is divisible be 3\n",
      "19 is not divisible by 3\n",
      "20 is not divisible by 3\n",
      "21 is divisible be 3\n",
      "22 is not divisible by 3\n",
      "23 is not divisible by 3\n",
      "24 is divisible be 3\n"
     ]
    }
   ],
   "source": [
    "# solution of question-6\n",
    "\n",
    "lst3=list(range(25))\n",
    "print(lst3)\n",
    "for i in lst3:\n",
    "    if(i%3==0):\n",
    "        print(i ,\"is divisible be 3\")\n",
    "    else:\n",
    "        print(i, \"is not divisible by 3\")"
   ]
  },
  {
   "cell_type": "code",
   "execution_count": 21,
   "id": "67123a78-26d0-4ee8-8abc-45a3554d4c68",
   "metadata": {},
   "outputs": [
    {
     "name": "stdout",
     "output_type": "stream",
     "text": [
      "['physics', 'wallah']\n",
      "['college', 'wallah'] \n",
      "\n",
      "DataScience\n"
     ]
    }
   ],
   "source": [
    "# solution of question-7\n",
    "\n",
    "# mutable datatype - Mutable datatypes are those that allow you to \n",
    "# change their value after its creation(modification in thier values).\n",
    "# example of mutable datatype -> list , set , dictionary\n",
    "lst4=[\"physics\" , \"wallah\"]\n",
    "print(lst4)\n",
    "lst4[0]=\"college\"\n",
    "print(lst4 , \"\\n\")\n",
    "\n",
    "# Imutable datatype - An object whose internal state cannot be changed is called immutable.\n",
    "# Their values cannot be modified after its creation.\n",
    "# for example a number, a string, and a tuple. .\n",
    "\n",
    "str1=\"DataScience\"\n",
    "print(str1)\n",
    "\n",
    "# below two code through error due to imutable nature of string\n",
    "#str1[2]=\"d\"\n",
    "#print(str1)"
   ]
  },
  {
   "cell_type": "code",
   "execution_count": null,
   "id": "67cdf22f-6b7c-4b1d-a1de-0383c15227ad",
   "metadata": {},
   "outputs": [],
   "source": []
  }
 ],
 "metadata": {
  "kernelspec": {
   "display_name": "Python 3 (ipykernel)",
   "language": "python",
   "name": "python3"
  },
  "language_info": {
   "codemirror_mode": {
    "name": "ipython",
    "version": 3
   },
   "file_extension": ".py",
   "mimetype": "text/x-python",
   "name": "python",
   "nbconvert_exporter": "python",
   "pygments_lexer": "ipython3",
   "version": "3.10.8"
  }
 },
 "nbformat": 4,
 "nbformat_minor": 5
}
