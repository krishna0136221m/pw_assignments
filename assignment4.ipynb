{
 "cells": [
  {
   "cell_type": "code",
   "execution_count": 1,
   "id": "beb27055-fe80-4618-92c6-dbd8bcb27c21",
   "metadata": {},
   "outputs": [
    {
     "name": "stdout",
     "output_type": "stream",
     "text": [
      "[('Virat Kohli', 24936), ('Jack Kallis', 25534), ('Ricky Ponting', 27483), ('Sachin Tendulkar', 34357)]\n"
     ]
    }
   ],
   "source": [
    "#solution 1\n",
    "\n",
    "tup = [('Sachin Tendulkar', 34357), ('Ricky Ponting', 27483), ('Jack Kallis', 25534), ('Virat Kohli', 24936)]\n",
    "\n",
    "tup.sort(key = lambda x : x[1])\n",
    "print(tup)"
   ]
  },
  {
   "cell_type": "code",
   "execution_count": 2,
   "id": "806c32d5-c0f8-4ea9-a048-87b3e63eac27",
   "metadata": {},
   "outputs": [
    {
     "name": "stdout",
     "output_type": "stream",
     "text": [
      "[1, 4, 9, 16, 25, 36, 49, 64, 81, 100]\n"
     ]
    }
   ],
   "source": [
    "#solution 2\n",
    "\n",
    "lst = [1, 2, 3, 4, 5, 6, 7, 8, 9, 10]\n",
    "sqr = list(map(lambda x : x**2 , lst))\n",
    "print(sqr)"
   ]
  },
  {
   "cell_type": "code",
   "execution_count": 13,
   "id": "6583a6af-77a5-42ee-aa98-7778b56cae69",
   "metadata": {},
   "outputs": [
    {
     "name": "stdout",
     "output_type": "stream",
     "text": [
      "('1', '2', '3', '4', '5', '6', '7', '8', '9', '10')\n"
     ]
    }
   ],
   "source": [
    "#solution 3\n",
    "\n",
    "lst=[1, 2, 3, 4, 5, 6, 7, 8, 9, 10]\n",
    "string = tuple(map(lambda x : str(x) , lst))\n",
    "print(string)"
   ]
  },
  {
   "cell_type": "code",
   "execution_count": 24,
   "id": "fb4930dc-795a-4579-8eb6-7f2df7cf61e4",
   "metadata": {},
   "outputs": [
    {
     "name": "stdout",
     "output_type": "stream",
     "text": [
      "15511210043330985984000000\n"
     ]
    }
   ],
   "source": [
    "# solution 8 \n",
    "from functools import reduce\n",
    "lst = list(range(1,26))\n",
    "product = reduce(lambda x , y : x*y , lst)\n",
    "print(product)"
   ]
  },
  {
   "cell_type": "code",
   "execution_count": 33,
   "id": "98198f7d-9149-4cc0-841d-74dbcb3aa3b3",
   "metadata": {},
   "outputs": [
    {
     "name": "stdout",
     "output_type": "stream",
     "text": [
      "[6, 60, 90, 120]\n"
     ]
    }
   ],
   "source": [
    "# solution 9 \n",
    "\n",
    "lst = [2, 3, 6, 9, 27, 60, 90, 120, 55, 46]\n",
    "def check(x):\n",
    "    if x%2==0 and x%3==0:\n",
    "        return x \n",
    "catch = list(filter(check , lst))\n",
    "print(catch)"
   ]
  },
  {
   "cell_type": "code",
   "execution_count": 65,
   "id": "a65ff372-f08c-4b3e-ae0d-164f29b22147",
   "metadata": {},
   "outputs": [
    {
     "name": "stdout",
     "output_type": "stream",
     "text": [
      "['php', 'aba', 'radar', 'level']\n"
     ]
    }
   ],
   "source": [
    "#solution 10\n",
    "lst = ['python', 'php', 'aba', 'radar', 'level']\n",
    "\n",
    "p = list(filter(lambda x : x == \"\".join(reversed(x)) , lst))\n",
    "print(p)"
   ]
  },
  {
   "cell_type": "code",
   "execution_count": null,
   "id": "0ef8af69-412c-4970-918a-d28b909c279e",
   "metadata": {},
   "outputs": [],
   "source": []
  }
 ],
 "metadata": {
  "kernelspec": {
   "display_name": "Python 3 (ipykernel)",
   "language": "python",
   "name": "python3"
  },
  "language_info": {
   "codemirror_mode": {
    "name": "ipython",
    "version": 3
   },
   "file_extension": ".py",
   "mimetype": "text/x-python",
   "name": "python",
   "nbconvert_exporter": "python",
   "pygments_lexer": "ipython3",
   "version": "3.10.8"
  }
 },
 "nbformat": 4,
 "nbformat_minor": 5
}
