{
 "cells": [
  {
   "cell_type": "code",
   "execution_count": 1,
   "id": "13f324a2-2626-4e4f-89d4-f29ca03e7a0b",
   "metadata": {},
   "outputs": [
    {
     "data": {
      "text/plain": [
       "[1, 3, 5, 7, 9, 11, 13, 15, 17, 19, 21, 23, 25]"
      ]
     },
     "execution_count": 1,
     "metadata": {},
     "output_type": "execute_result"
    }
   ],
   "source": [
    "# solution 1\n",
    "\n",
    "# def keyword is used for creating function\n",
    "\n",
    "a=list(range(1,26))\n",
    "\n",
    "def show_odd(a):\n",
    "    lst=[]\n",
    "    for i in a :\n",
    "        if(i%2!=0):\n",
    "            lst.append(i)\n",
    "    return lst        \n",
    "\n",
    "show_odd(a)\n",
    "    \n"
   ]
  },
  {
   "cell_type": "code",
   "execution_count": 2,
   "id": "ee6768e5-b286-4675-b5a0-bfc49a4236f0",
   "metadata": {},
   "outputs": [
    {
     "name": "stdout",
     "output_type": "stream",
     "text": [
      "(1, 23, 4, 5)\n",
      "<class 'tuple'>\n",
      "{'name': 'abhay', 'college': 'dav'}\n",
      "<class 'dict'>\n"
     ]
    }
   ],
   "source": [
    "#solution 2 \n",
    "\"\"\"*args passes variable number of non-keyworded arguments and on which operation of the tuple can be performed.\"\"\"\n",
    "\"\"\"**kwargs passes variable number of keyword arguments dictionary to function on which operation of a dictionary can be performed\"\"\"\n",
    "\n",
    "# using *args\n",
    "def show1(*args):\n",
    "    print(args)\n",
    "    print(type(args))\n",
    "    \n",
    "def show2(**args):\n",
    "    print(args)\n",
    "    print(type(args))\n",
    "    \n",
    "show1(1,23,4,5)\n",
    "show2(name = \"abhay\" , college = \"dav\" )"
   ]
  },
  {
   "cell_type": "code",
   "execution_count": 3,
   "id": "a3557b38-76fe-45cf-a390-57fea2771b55",
   "metadata": {},
   "outputs": [
    {
     "data": {
      "text/plain": [
       "2"
      ]
     },
     "execution_count": 3,
     "metadata": {},
     "output_type": "execute_result"
    }
   ],
   "source": [
    "# solution 3 \n",
    "\"\"\"Iterators are objects that allow you to traverse through all the elements of a collection and return one element at a time.\"\"\"\\\n",
    "\n",
    "\"\"\"method is iter keyword used to intailize the iterator object and next keyword used for iteration \"\"\"\n",
    "\n",
    "lst = [2, 4, 6, 8, 10, 12, 14,16, 18, 20]\n",
    "\n",
    "lst2 = iter(lst)\n",
    "next(lst2)"
   ]
  },
  {
   "cell_type": "code",
   "execution_count": 4,
   "id": "15205c2f-d6ce-43b9-b198-aa25b4e066fc",
   "metadata": {},
   "outputs": [
    {
     "data": {
      "text/plain": [
       "4"
      ]
     },
     "execution_count": 4,
     "metadata": {},
     "output_type": "execute_result"
    }
   ],
   "source": [
    "next(lst2)"
   ]
  },
  {
   "cell_type": "code",
   "execution_count": 5,
   "id": "0d50f0f5-229f-449e-bb6c-ed57e17d8788",
   "metadata": {},
   "outputs": [
    {
     "data": {
      "text/plain": [
       "6"
      ]
     },
     "execution_count": 5,
     "metadata": {},
     "output_type": "execute_result"
    }
   ],
   "source": [
    "next(lst2)"
   ]
  },
  {
   "cell_type": "code",
   "execution_count": 6,
   "id": "5e26231f-c871-4ecb-af55-2f2fcca40164",
   "metadata": {},
   "outputs": [
    {
     "data": {
      "text/plain": [
       "8"
      ]
     },
     "execution_count": 6,
     "metadata": {},
     "output_type": "execute_result"
    }
   ],
   "source": [
    "next(lst2)"
   ]
  },
  {
   "cell_type": "code",
   "execution_count": 7,
   "id": "59c8d206-adb4-4cf7-8ba1-c68655bd94e9",
   "metadata": {},
   "outputs": [
    {
     "data": {
      "text/plain": [
       "10"
      ]
     },
     "execution_count": 7,
     "metadata": {},
     "output_type": "execute_result"
    }
   ],
   "source": [
    "next(lst2)"
   ]
  },
  {
   "cell_type": "code",
   "execution_count": 8,
   "id": "223dd359-eef8-4045-b2c0-a2afc9f42f26",
   "metadata": {},
   "outputs": [
    {
     "data": {
      "text/plain": [
       "12"
      ]
     },
     "execution_count": 8,
     "metadata": {},
     "output_type": "execute_result"
    }
   ],
   "source": [
    "next(lst2)"
   ]
  },
  {
   "cell_type": "code",
   "execution_count": 9,
   "id": "c80bccb3-d93d-4502-ba2d-2ade7f3e9f84",
   "metadata": {},
   "outputs": [
    {
     "name": "stdout",
     "output_type": "stream",
     "text": [
      "0\n",
      "1\n",
      "2\n",
      "3\n",
      "4\n",
      "5\n",
      "6\n",
      "7\n",
      "8\n",
      "9\n"
     ]
    }
   ],
   "source": [
    "# solution 4 \n",
    "\"\"\"a generator is a function that returns an iterator that produces a sequence of values when iterated over. \"\"\"\n",
    "\"\"\"yield keyword is used to create generator function\"\"\"\n",
    "\n",
    "def counting(n):\n",
    "    i=0\n",
    "    while i<n :\n",
    "        yield i \n",
    "        i=i+1\n",
    "        \n",
    "for i in counting(10):\n",
    "    print(i)"
   ]
  },
  {
   "cell_type": "code",
   "execution_count": 10,
   "id": "bc7ffeaf-034f-4372-9b5a-80f1207d07c5",
   "metadata": {},
   "outputs": [],
   "source": [
    "#SOLUTION 5\n",
    "\n",
    "def prime():\n",
    "    for i in range(1, 1000):\n",
    "        for num in range(2, i):\n",
    "            if i % num == 0:\n",
    "                break\n",
    "        else:\n",
    "            yield i"
   ]
  },
  {
   "cell_type": "code",
   "execution_count": 11,
   "id": "13b399be-806f-4b8b-9e08-109cdbfb14af",
   "metadata": {},
   "outputs": [],
   "source": [
    "a=iter(prime())"
   ]
  },
  {
   "cell_type": "code",
   "execution_count": 12,
   "id": "81b3863d-3faa-4629-8090-ffb8d6a66b48",
   "metadata": {},
   "outputs": [
    {
     "name": "stdout",
     "output_type": "stream",
     "text": [
      "1\n",
      "2\n",
      "3\n",
      "5\n",
      "7\n",
      "11\n",
      "13\n",
      "17\n",
      "19\n",
      "23\n",
      "29\n",
      "31\n",
      "37\n",
      "41\n",
      "43\n",
      "47\n",
      "53\n",
      "59\n",
      "61\n",
      "67\n"
     ]
    }
   ],
   "source": [
    "for i in range(20):\n",
    "    print(next(a))"
   ]
  },
  {
   "cell_type": "code",
   "execution_count": 13,
   "id": "d5545618-9e2a-429c-af04-e1ce18759948",
   "metadata": {},
   "outputs": [],
   "source": [
    "#SOLUTION 6 \n",
    "\n",
    "def fab(num):\n",
    "    if num > 0 :\n",
    "        a=0\n",
    "        b=1\n",
    "        print(0)\n",
    "        for i in range(num):\n",
    "            c=a+b\n",
    "            a=b\n",
    "            b=c\n",
    "            print(c)\n",
    "            "
   ]
  },
  {
   "cell_type": "code",
   "execution_count": 14,
   "id": "7fd691fb-7654-4ac5-b756-614d371cf76f",
   "metadata": {},
   "outputs": [
    {
     "name": "stdout",
     "output_type": "stream",
     "text": [
      "0\n",
      "1\n",
      "2\n",
      "3\n",
      "5\n",
      "8\n",
      "13\n",
      "21\n",
      "34\n",
      "55\n",
      "89\n",
      "144\n",
      "233\n"
     ]
    }
   ],
   "source": [
    "fab(12)"
   ]
  },
  {
   "cell_type": "code",
   "execution_count": 16,
   "id": "5c093a75-4dcd-41d9-b1f1-1c3de7203400",
   "metadata": {},
   "outputs": [
    {
     "name": "stdout",
     "output_type": "stream",
     "text": [
      "['p', 'w', 's', 'k', 'i', 'l', 'l', 's']\n"
     ]
    }
   ],
   "source": [
    "# solution 7 \n",
    "string = \"pwskills\"\n",
    "lst = [x for x in string]\n",
    "print(lst)"
   ]
  },
  {
   "cell_type": "code",
   "execution_count": 59,
   "id": "f3dfde12-9b88-4c89-be7b-2b1670196010",
   "metadata": {},
   "outputs": [
    {
     "name": "stdin",
     "output_type": "stream",
     "text": [
      "enter number 1001\n"
     ]
    },
    {
     "name": "stdout",
     "output_type": "stream",
     "text": [
      "given number is Palindrome number\n"
     ]
    }
   ],
   "source": [
    "#solution 8 \n",
    "\n",
    "num = int(input(\"enter number\"))\n",
    "s1 = str(num)\n",
    "s2=\"\"\n",
    "length = len(s1)\n",
    "for i in range(0,length):\n",
    "    s2 = s2 + s1[length-i-1]\n",
    "    \n",
    "if(int(s2) == num ):\n",
    "    print(\"given number is Palindrome number\")\n",
    "else:\n",
    "    print(\"given number is not Palindrome number\")"
   ]
  },
  {
   "cell_type": "code",
   "execution_count": 69,
   "id": "837fc1e1-b6e6-4b4f-a603-c3e03fe1358b",
   "metadata": {},
   "outputs": [
    {
     "name": "stdout",
     "output_type": "stream",
     "text": [
      "[1, 3, 5, 7, 9, 11, 13, 15, 17, 19, 21, 23, 25, 27, 29, 31, 33, 35, 37, 39, 41, 43, 45, 47, 49, 51, 53, 55, 57, 59, 61, 63, 65, 67, 69, 71, 73, 75, 77, 79, 81, 83, 85, 87, 89, 91, 93, 95, 97, 99]\n"
     ]
    }
   ],
   "source": [
    "#solution 9 \n",
    "\n",
    "lst = list(range(1,101))\n",
    "lst2=[x for x in lst if x%2!=0 ]\n",
    "print(lst2)"
   ]
  },
  {
   "cell_type": "code",
   "execution_count": null,
   "id": "565e9543-f7e0-4fd9-a303-b53af807e31b",
   "metadata": {},
   "outputs": [],
   "source": []
  }
 ],
 "metadata": {
  "kernelspec": {
   "display_name": "Python 3 (ipykernel)",
   "language": "python",
   "name": "python3"
  },
  "language_info": {
   "codemirror_mode": {
    "name": "ipython",
    "version": 3
   },
   "file_extension": ".py",
   "mimetype": "text/x-python",
   "name": "python",
   "nbconvert_exporter": "python",
   "pygments_lexer": "ipython3",
   "version": "3.10.8"
  }
 },
 "nbformat": 4,
 "nbformat_minor": 5
}
