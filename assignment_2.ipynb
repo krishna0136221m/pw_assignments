{
 "cells": [
  {
   "cell_type": "code",
   "execution_count": 1,
   "id": "9aa277f8-50f3-43c5-8056-7b316a258d66",
   "metadata": {},
   "outputs": [
    {
     "data": {
      "text/plain": [
       "\"\\nComments in Python are the lines in the code that are\\nignored by the interpreter during the execution of the program.\\nTypes of comments are :\\nSingle line Comments -> given by # (example - # this is comment)\\nMultiline Comments   -> Muti line comment in which we use triple single quote ''' '''\\nand triple double quote .To comment the code\\n\""
      ]
     },
     "execution_count": 1,
     "metadata": {},
     "output_type": "execute_result"
    }
   ],
   "source": [
    "# solution of question-1\n",
    "\"\"\"\n",
    "Comments in Python are the lines in the code that are\n",
    "ignored by the interpreter during the execution of the program.\n",
    "Types of comments are :\n",
    "Single line Comments -> given by # (example - # this is comment)\n",
    "Multiline Comments   -> Muti line comment in which we use triple single quote ''' '''\n",
    "and triple double quote \"\"\"\"\"\".To comment the code\n",
    "\"\"\"\n"
   ]
  },
  {
   "cell_type": "code",
   "execution_count": 2,
   "id": "9d328173-850c-45fc-8e21-a457da910a5c",
   "metadata": {},
   "outputs": [],
   "source": [
    "# solution of question-2\n",
    "# Variables are containers for storing data values.\n",
    "# we declare by using alphabet or underscore\n",
    "# syntax -> var_name = value"
   ]
  },
  {
   "cell_type": "code",
   "execution_count": 3,
   "id": "241c9db9-4fa4-4ee9-9458-11f558d7286a",
   "metadata": {},
   "outputs": [
    {
     "data": {
      "text/plain": [
       "'\\nint to float-> float(10)\\nfloat to int->int(10.5)\\nint or float to string->str(10) or str(10.5)\\nlist to tupple->list([1,4,,6])\\ntupple to list->list((1,5,7))\\netc\\n\\nso that mean we can convert various datatype one to other by using in-build method of python\\n'"
      ]
     },
     "execution_count": 3,
     "metadata": {},
     "output_type": "execute_result"
    }
   ],
   "source": [
    "# solution of question-3\n",
    "# we convert datatypes using iin build function\n",
    "# examples\n",
    "\"\"\"\n",
    "int to float-> float(10)\n",
    "float to int->int(10.5)\n",
    "int or float to string->str(10) or str(10.5)\n",
    "list to tupple->list([1,4,,6])\n",
    "tupple to list->list((1,5,7))\n",
    "etc\n",
    "\n",
    "so that mean we can convert various datatype one to other by using in-build method of python\n",
    "\"\"\""
   ]
  },
  {
   "cell_type": "code",
   "execution_count": 4,
   "id": "40193730-199d-48fc-896d-7b15cd26130a",
   "metadata": {},
   "outputs": [
    {
     "data": {
      "text/plain": [
       "\"\\nThe most basic and easy way to run a Python script is by using the python command. \\nYou need to open a command line and type the word python followed by the path to your script file like this:\\n\\npython test.py\\nHello World!\\n\\nThen you hit the ENTER button from the keyboard, and that's it.\\nYou will get the output simply.\\n\\n\""
      ]
     },
     "execution_count": 4,
     "metadata": {},
     "output_type": "execute_result"
    }
   ],
   "source": [
    "# solution of question-4\n",
    "\"\"\"\n",
    "The most basic and easy way to run a Python script is by using the python command. \n",
    "You need to open a command line and type the word python followed by the path to your script file like this:\n",
    "\n",
    "python test.py\n",
    "Hello World!\n",
    "\n",
    "Then you hit the ENTER button from the keyboard, and that's it.\n",
    "You will get the output simply.\n",
    "\n",
    "\"\"\""
   ]
  },
  {
   "cell_type": "code",
   "execution_count": 5,
   "id": "2ffdb8a2-250e-4b0f-9d20-d4d731602f52",
   "metadata": {},
   "outputs": [
    {
     "name": "stdout",
     "output_type": "stream",
     "text": [
      "[2, 3]\n"
     ]
    }
   ],
   "source": [
    "# solution of question-5\n",
    "my_list = [1, 2, 3, 4, 5]\n",
    "print(my_list[1:3])"
   ]
  },
  {
   "cell_type": "code",
   "execution_count": 6,
   "id": "bfd4214e-d301-40e1-af8b-af1ec3afd969",
   "metadata": {},
   "outputs": [
    {
     "name": "stdout",
     "output_type": "stream",
     "text": [
      "(2+4j)\n"
     ]
    }
   ],
   "source": [
    "# solution of question-4\n",
    "\"\"\"\n",
    "The complex number is basically the combination of a real number and an imaginary number. \n",
    "The complex number is in the form of a+ib\n",
    "where a is real part and b is imaginary part\n",
    "\n",
    "In python declaration syntax -> var_name = a + ib\n",
    "\"\"\"\n",
    "complex_number = 2+4j\n",
    "print(complex_number)"
   ]
  },
  {
   "cell_type": "code",
   "execution_count": 7,
   "id": "677ee073-4d7c-4c76-acc1-4667bc47dc0b",
   "metadata": {},
   "outputs": [
    {
     "name": "stdout",
     "output_type": "stream",
     "text": [
      "25\n"
     ]
    }
   ],
   "source": [
    "# solution of question-6\n",
    "# declare variable name age assign value 25\n",
    "age = 25\n",
    "print(age)\n"
   ]
  },
  {
   "cell_type": "code",
   "execution_count": 8,
   "id": "85715a6e-72a6-4a4f-aaaf-105f2ced4c1a",
   "metadata": {},
   "outputs": [
    {
     "name": "stdout",
     "output_type": "stream",
     "text": [
      "<class 'float'>\n"
     ]
    }
   ],
   "source": [
    "# solution of question-7\n",
    "# declare variable name price assign value 9.99 and get their dtype.\n",
    "\n",
    "price = 9.99\n",
    "# Its datatype is float.\n",
    "print(type(price))"
   ]
  },
  {
   "cell_type": "code",
   "execution_count": 9,
   "id": "0a473d97-b7d6-41e8-a64b-50544cf7fa0e",
   "metadata": {},
   "outputs": [
    {
     "name": "stdout",
     "output_type": "stream",
     "text": [
      "krishna yaduvanshi\n"
     ]
    }
   ],
   "source": [
    "# solution of question-8\n",
    "\n",
    "name = \"krishna yaduvanshi\"\n",
    "print(name)"
   ]
  },
  {
   "cell_type": "code",
   "execution_count": 10,
   "id": "d3fda4e2-aa64-4523-b02d-8eb6447bd35f",
   "metadata": {},
   "outputs": [
    {
     "name": "stdout",
     "output_type": "stream",
     "text": [
      "world\n"
     ]
    }
   ],
   "source": [
    "# solution of question-9\n",
    "\n",
    "var = \"hello world\"\n",
    "print(var[6:11])"
   ]
  },
  {
   "cell_type": "code",
   "execution_count": 11,
   "id": "dfcb0d2c-77f6-4152-a62e-b2da4f999ddd",
   "metadata": {},
   "outputs": [
    {
     "data": {
      "text/plain": [
       "bool"
      ]
     },
     "execution_count": 11,
     "metadata": {},
     "output_type": "execute_result"
    }
   ],
   "source": [
    "# solution of  question-10\n",
    "is_student = True\n",
    "type(is_student)\n"
   ]
  }
 ],
 "metadata": {
  "kernelspec": {
   "display_name": "Python 3 (ipykernel)",
   "language": "python",
   "name": "python3"
  },
  "language_info": {
   "codemirror_mode": {
    "name": "ipython",
    "version": 3
   },
   "file_extension": ".py",
   "mimetype": "text/x-python",
   "name": "python",
   "nbconvert_exporter": "python",
   "pygments_lexer": "ipython3",
   "version": "3.10.8"
  }
 },
 "nbformat": 4,
 "nbformat_minor": 5
}
